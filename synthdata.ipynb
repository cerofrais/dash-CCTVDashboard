{
 "cells": [
  {
   "cell_type": "code",
   "execution_count": 1,
   "metadata": {},
   "outputs": [],
   "source": [
    "import pandas as pd\n",
    "import random\n",
    "import string"
   ]
  },
  {
   "cell_type": "raw",
   "metadata": {},
   "source": [
    "# function in Excel\n",
    "#=CONCATENATE(CHOOSE(RANDBETWEEN(1,4),\"AP\",\"TS\",\"MP\",\"MH\"),TEXT(RANDBETWEEN(0,99),\"00\"),CHOOSE(RANDBETWEEN(1,5),\"A\",\"B\",\"C\",\"D\",\"E\"),TEXT(RANDBETWEEN(0,9999),\"0000\"))"
   ]
  },
  {
   "cell_type": "code",
   "execution_count": 2,
   "metadata": {},
   "outputs": [],
   "source": [
    "def cars(x):\n",
    "    for i in range(x):    \n",
    "        print( random.choice(['TS ','AP ','MH ','MP '])+str(random.randint(0,9))+str(random.randint(0,9))+\" \"+ random.choice(string.ascii_uppercase) + random.choice(string.ascii_uppercase) +\" \"+ str(random.randint(0,9))+ str(random.randint(0,9))+ str(random.randint(0,9))+ str(random.randint(0,9)))\n"
   ]
  },
  {
   "cell_type": "code",
   "execution_count": 3,
   "metadata": {},
   "outputs": [
    {
     "name": "stdout",
     "output_type": "stream",
     "text": [
      "MH 35 DH 9916\n",
      "AP 78 SB 7050\n",
      "AP 57 KF 8473\n",
      "TS 37 DE 4217\n",
      "TS 79 ML 8364\n",
      "MP 77 FA 3186\n",
      "MH 39 BD 4934\n",
      "MH 45 XW 2494\n",
      "MP 01 AB 8217\n",
      "MH 72 ZR 0812\n"
     ]
    }
   ],
   "source": [
    "cars(10)"
   ]
  },
  {
   "cell_type": "code",
   "execution_count": 4,
   "metadata": {},
   "outputs": [
    {
     "name": "stderr",
     "output_type": "stream",
     "text": [
      "C:\\Users\\Harsha\\AppData\\Local\\Programs\\Python\\Python36\\lib\\site-packages\\pandas\\util\\_decorators.py:118: FutureWarning: The `sheetname` keyword is deprecated, use `sheet_name` instead\n",
      "  return func(*args, **kwargs)\n"
     ]
    }
   ],
   "source": [
    "df=pd.read_excel('synth_data.xlsx',sheetname='forpandas')"
   ]
  },
  {
   "cell_type": "code",
   "execution_count": 5,
   "metadata": {},
   "outputs": [
    {
     "data": {
      "text/html": [
       "<div>\n",
       "<style scoped>\n",
       "    .dataframe tbody tr th:only-of-type {\n",
       "        vertical-align: middle;\n",
       "    }\n",
       "\n",
       "    .dataframe tbody tr th {\n",
       "        vertical-align: top;\n",
       "    }\n",
       "\n",
       "    .dataframe thead th {\n",
       "        text-align: right;\n",
       "    }\n",
       "</style>\n",
       "<table border=\"1\" class=\"dataframe\">\n",
       "  <thead>\n",
       "    <tr style=\"text-align: right;\">\n",
       "      <th></th>\n",
       "      <th>Date</th>\n",
       "      <th>Time</th>\n",
       "      <th>Cars In</th>\n",
       "      <th>Cars Out</th>\n",
       "      <th>ppl In</th>\n",
       "      <th>ppl Out</th>\n",
       "      <th>total cars atm</th>\n",
       "      <th>Total people atm</th>\n",
       "      <th>Date-Time</th>\n",
       "    </tr>\n",
       "  </thead>\n",
       "  <tbody>\n",
       "    <tr>\n",
       "      <th>0</th>\n",
       "      <td>2018-07-08</td>\n",
       "      <td>00:00:00</td>\n",
       "      <td>14</td>\n",
       "      <td>3</td>\n",
       "      <td>1</td>\n",
       "      <td>15</td>\n",
       "      <td>111</td>\n",
       "      <td>136</td>\n",
       "      <td>2018-07-08 00:00:00.000</td>\n",
       "    </tr>\n",
       "    <tr>\n",
       "      <th>1</th>\n",
       "      <td>2018-07-08</td>\n",
       "      <td>01:00:00</td>\n",
       "      <td>11</td>\n",
       "      <td>2</td>\n",
       "      <td>1</td>\n",
       "      <td>3</td>\n",
       "      <td>109</td>\n",
       "      <td>148</td>\n",
       "      <td>2018-07-08 01:00:00.000</td>\n",
       "    </tr>\n",
       "    <tr>\n",
       "      <th>2</th>\n",
       "      <td>2018-07-08</td>\n",
       "      <td>02:00:00</td>\n",
       "      <td>3</td>\n",
       "      <td>11</td>\n",
       "      <td>10</td>\n",
       "      <td>18</td>\n",
       "      <td>92</td>\n",
       "      <td>142</td>\n",
       "      <td>2018-07-08 01:59:59.990</td>\n",
       "    </tr>\n",
       "    <tr>\n",
       "      <th>3</th>\n",
       "      <td>2018-07-08</td>\n",
       "      <td>03:00:00</td>\n",
       "      <td>12</td>\n",
       "      <td>10</td>\n",
       "      <td>13</td>\n",
       "      <td>0</td>\n",
       "      <td>102</td>\n",
       "      <td>163</td>\n",
       "      <td>2018-07-08 02:59:59.985</td>\n",
       "    </tr>\n",
       "    <tr>\n",
       "      <th>4</th>\n",
       "      <td>2018-07-08</td>\n",
       "      <td>04:00:00</td>\n",
       "      <td>4</td>\n",
       "      <td>8</td>\n",
       "      <td>0</td>\n",
       "      <td>13</td>\n",
       "      <td>96</td>\n",
       "      <td>137</td>\n",
       "      <td>2018-07-08 03:59:59.980</td>\n",
       "    </tr>\n",
       "  </tbody>\n",
       "</table>\n",
       "</div>"
      ],
      "text/plain": [
       "        Date      Time  Cars In  Cars Out  ppl In  ppl Out  total cars atm  \\\n",
       "0 2018-07-08  00:00:00       14         3       1       15             111   \n",
       "1 2018-07-08  01:00:00       11         2       1        3             109   \n",
       "2 2018-07-08  02:00:00        3        11      10       18              92   \n",
       "3 2018-07-08  03:00:00       12        10      13        0             102   \n",
       "4 2018-07-08  04:00:00        4         8       0       13              96   \n",
       "\n",
       "   Total people atm               Date-Time  \n",
       "0               136 2018-07-08 00:00:00.000  \n",
       "1               148 2018-07-08 01:00:00.000  \n",
       "2               142 2018-07-08 01:59:59.990  \n",
       "3               163 2018-07-08 02:59:59.985  \n",
       "4               137 2018-07-08 03:59:59.980  "
      ]
     },
     "execution_count": 5,
     "metadata": {},
     "output_type": "execute_result"
    }
   ],
   "source": [
    "df.head()"
   ]
  },
  {
   "cell_type": "code",
   "execution_count": 6,
   "metadata": {},
   "outputs": [
    {
     "data": {
      "text/plain": [
       "0     00:00:00\n",
       "1     01:00:00\n",
       "2     02:00:00\n",
       "3     03:00:00\n",
       "4     04:00:00\n",
       "5     05:00:00\n",
       "6     06:00:00\n",
       "7     07:00:00\n",
       "8     08:00:00\n",
       "9     09:00:00\n",
       "10    10:00:00\n",
       "11    11:00:00\n",
       "12    12:00:00\n",
       "13    13:00:00\n",
       "14    14:00:00\n",
       "15    15:00:00\n",
       "16    16:00:00\n",
       "17    17:00:00\n",
       "18    18:00:00\n",
       "19    19:00:00\n",
       "20    20:00:00\n",
       "21    21:00:00\n",
       "22    22:00:00\n",
       "23    23:00:00\n",
       "24    00:00:00\n",
       "25    01:00:00\n",
       "26    02:00:00\n",
       "27    03:00:00\n",
       "28    04:00:00\n",
       "29    05:00:00\n",
       "        ...   \n",
       "66    18:00:00\n",
       "67    19:00:00\n",
       "68    20:00:00\n",
       "69    21:00:00\n",
       "70    22:00:00\n",
       "71    23:00:00\n",
       "72    00:00:00\n",
       "73    01:00:00\n",
       "74    02:00:00\n",
       "75    03:00:00\n",
       "76    04:00:00\n",
       "77    05:00:00\n",
       "78    06:00:00\n",
       "79    07:00:00\n",
       "80    08:00:00\n",
       "81    09:00:00\n",
       "82    10:00:00\n",
       "83    11:00:00\n",
       "84    12:00:00\n",
       "85    13:00:00\n",
       "86    14:00:00\n",
       "87    15:00:00\n",
       "88    16:00:00\n",
       "89    17:00:00\n",
       "90    18:00:00\n",
       "91    19:00:00\n",
       "92    20:00:00\n",
       "93    21:00:00\n",
       "94    22:00:00\n",
       "95    23:00:00\n",
       "Name: Time, Length: 96, dtype: object"
      ]
     },
     "execution_count": 6,
     "metadata": {},
     "output_type": "execute_result"
    }
   ],
   "source": [
    "df['Time']"
   ]
  },
  {
   "cell_type": "code",
   "execution_count": 7,
   "metadata": {},
   "outputs": [],
   "source": [
    "#!pip3 install dash\n",
    "#!pip3 install dash-renderer\n",
    "#!pip3 install dash-html-components\n",
    "#!pip3 install dash-core-comonents\n",
    "#!pip3 install plotly"
   ]
  },
  {
   "cell_type": "code",
   "execution_count": 8,
   "metadata": {},
   "outputs": [],
   "source": [
    "from datetime import datetime as dt\n",
    "from datetime import date"
   ]
  },
  {
   "cell_type": "code",
   "execution_count": 9,
   "metadata": {},
   "outputs": [
    {
     "data": {
      "text/plain": [
       "datetime.date(2018, 7, 23)"
      ]
     },
     "execution_count": 9,
     "metadata": {},
     "output_type": "execute_result"
    }
   ],
   "source": [
    "date.today()"
   ]
  },
  {
   "cell_type": "code",
   "execution_count": 10,
   "metadata": {},
   "outputs": [
    {
     "data": {
      "text/plain": [
       "Index(['Date', 'Time', 'Cars In', 'Cars Out', 'ppl In', 'ppl Out',\n",
       "       'total cars atm', 'Total people atm', 'Date-Time'],\n",
       "      dtype='object')"
      ]
     },
     "execution_count": 10,
     "metadata": {},
     "output_type": "execute_result"
    }
   ],
   "source": [
    "df.columns"
   ]
  },
  {
   "cell_type": "code",
   "execution_count": null,
   "metadata": {},
   "outputs": [],
   "source": []
  }
 ],
 "metadata": {
  "kernelspec": {
   "display_name": "Python 3",
   "language": "python",
   "name": "python3"
  },
  "language_info": {
   "codemirror_mode": {
    "name": "ipython",
    "version": 3
   },
   "file_extension": ".py",
   "mimetype": "text/x-python",
   "name": "python",
   "nbconvert_exporter": "python",
   "pygments_lexer": "ipython3",
   "version": "3.6.5"
  }
 },
 "nbformat": 4,
 "nbformat_minor": 2
}
